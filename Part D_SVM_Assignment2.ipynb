{
 "cells": [
  {
   "cell_type": "code",
   "execution_count": 2,
   "metadata": {},
   "outputs": [
    {
     "data": {
      "text/plain": [
       "array([1, 1, 1, ..., 0, 0, 0], dtype=int64)"
      ]
     },
     "execution_count": 2,
     "metadata": {},
     "output_type": "execute_result"
    }
   ],
   "source": [
    "import numpy as np\n",
    "import pandas as pd\n",
    "data = pd.read_csv('gender.csv')\n",
    "data.head()\n",
    "df=data\n",
    "y=df.iloc[:,-1]\n",
    "y.head()\n",
    "x=df.iloc[:, :-1]\n",
    "x.head()\n",
    "from sklearn.preprocessing import LabelEncoder\n",
    "gender_encoder = LabelEncoder()\n",
    "y= gender_encoder.fit_transform(y)\n",
    "y\n"
   ]
  },
  {
   "cell_type": "code",
   "execution_count": 3,
   "metadata": {
    "collapsed": true
   },
   "outputs": [],
   "source": [
    "from sklearn.model_selection import train_test_split\n",
    "x_train, x_test, y_train, y_test =train_test_split(x, y, test_size=0.2, random_state=1)"
   ]
  },
  {
   "cell_type": "markdown",
   "metadata": {},
   "source": [
    "The above steps are the same for every machine learning algorithm."
   ]
  },
  {
   "cell_type": "markdown",
   "metadata": {},
   "source": [
    "SVM with Default parameter without scaling\n",
    "--------------------------------------------"
   ]
  },
  {
   "cell_type": "code",
   "execution_count": 4,
   "metadata": {},
   "outputs": [
    {
     "name": "stdout",
     "output_type": "stream",
     "text": [
      "accuracy\n",
      "0.719242902208\n"
     ]
    }
   ],
   "source": [
    "from sklearn.svm import SVC\n",
    "from sklearn import metrics\n",
    "svc=SVC()\n",
    "svc.fit(x_train, y_train)\n",
    "y_pred = svc.predict(x_test)\n",
    "print('accuracy')\n",
    "print(metrics.accuracy_score(y_test,y_pred))"
   ]
  },
  {
   "cell_type": "markdown",
   "metadata": {},
   "source": [
    "SVM with Linear kernel without scaling\n",
    "----------------------------------------"
   ]
  },
  {
   "cell_type": "code",
   "execution_count": 5,
   "metadata": {},
   "outputs": [
    {
     "name": "stdout",
     "output_type": "stream",
     "text": [
      "accuracy\n",
      "0.914826498423\n"
     ]
    }
   ],
   "source": [
    "svc=SVC(kernel='linear')\n",
    "svc.fit(x_train, y_train)\n",
    "y_pred = svc.predict(x_test)\n",
    "print('accuracy')\n",
    "print(metrics.accuracy_score(y_test,y_pred))"
   ]
  },
  {
   "cell_type": "markdown",
   "metadata": {},
   "source": [
    "SVM with RBF kernel without Scaling\n",
    "-------------------------------------"
   ]
  },
  {
   "cell_type": "code",
   "execution_count": 6,
   "metadata": {},
   "outputs": [
    {
     "name": "stdout",
     "output_type": "stream",
     "text": [
      "accuracy\n",
      "0.719242902208\n"
     ]
    }
   ],
   "source": [
    "svc=SVC(kernel='rbf')\n",
    "svc.fit(x_train, y_train)\n",
    "y_pred = svc.predict(x_test)\n",
    "print('accuracy')\n",
    "print(metrics.accuracy_score(y_test,y_pred))"
   ]
  },
  {
   "cell_type": "markdown",
   "metadata": {},
   "source": [
    "SVM with Polynomial kernel without Scaling\n",
    "--------------------------------------------"
   ]
  },
  {
   "cell_type": "code",
   "execution_count": 7,
   "metadata": {},
   "outputs": [
    {
     "name": "stdout",
     "output_type": "stream",
     "text": [
      "accuracy\n",
      "0.935331230284\n"
     ]
    }
   ],
   "source": [
    "svc=SVC(kernel='poly')\n",
    "svc.fit(x_train, y_train)\n",
    "y_pred = svc.predict(x_test)\n",
    "print('accuracy')\n",
    "print(metrics.accuracy_score(y_test,y_pred))"
   ]
  },
  {
   "cell_type": "markdown",
   "metadata": {},
   "source": [
    "Hyper-parameter Tuning ( Taking different values of C for linear kernel) - trying to improve the accuracy\n",
    "------"
   ]
  },
  {
   "cell_type": "code",
   "execution_count": 8,
   "metadata": {},
   "outputs": [
    {
     "name": "stdout",
     "output_type": "stream",
     "text": [
      "accuracy\n",
      "0.914826498423\n"
     ]
    }
   ],
   "source": [
    "svc=SVC(kernel='linear', C=1) \n",
    "svc.fit(x_train, y_train) \n",
    "y_pred = svc.predict(x_test) \n",
    "print('accuracy') \n",
    "print(metrics.accuracy_score(y_test,y_pred))"
   ]
  },
  {
   "cell_type": "markdown",
   "metadata": {},
   "source": [
    "There is no difference by changing the value of C, lets iterate it over 10 values to find the perfect value"
   ]
  },
  {
   "cell_type": "code",
   "execution_count": 19,
   "metadata": {},
   "outputs": [
    {
     "name": "stdout",
     "output_type": "stream",
     "text": [
      "accuracy\n",
      "accuracy when c= 1 ---- 0.914826498423\n",
      "accuracy\n",
      "accuracy when c= 2 ---- 0.94952681388\n",
      "accuracy\n",
      "accuracy when c= 3 ---- 0.958990536278\n",
      "accuracy\n",
      "accuracy when c= 4 ---- 0.963722397476\n",
      "accuracy\n",
      "accuracy when c= 5 ---- 0.96214511041\n",
      "accuracy\n",
      "accuracy when c= 6 ---- 0.96214511041\n",
      "accuracy\n",
      "accuracy when c= 7 ---- 0.960567823344\n",
      "accuracy\n",
      "accuracy when c= 8 ---- 0.960567823344\n",
      "accuracy\n",
      "accuracy when c= 9 ---- 0.960567823344\n",
      "accuracy is high at  4 ==== 0.963722397476\n"
     ]
    }
   ],
   "source": [
    "p = []\n",
    "for k in range(1, 10):\n",
    "    svc=SVC(kernel='linear', C=k) \n",
    "    svc.fit(x_train, y_train) \n",
    "    y_pred = svc.predict(x_test) \n",
    "    print('accuracy') \n",
    "    acc = metrics.accuracy_score(y_test,y_pred)\n",
    "    p.append(acc)\n",
    "    print(\"accuracy when c=\",k,\"----\",acc)\n",
    "\n",
    "max_value = max(p)\n",
    "index_value = p.index(max(p)) + 1\n",
    "print(\"accuracy is high at \",index_value,\"====\",max_value)"
   ]
  },
  {
   "cell_type": "markdown",
   "metadata": {},
   "source": [
    "When C value is small underfitting occurs\n",
    "when C value is large overfitting occurs, both spoil the performance of the model.\n",
    "Therfore we can identify that C = 4 is the optimal value\n",
    "and It increases the value by 4.2%\n",
    "We can also perform cross validation to get a more evenly distributed dataset, which will also increase the accuracy."
   ]
  },
  {
   "cell_type": "markdown",
   "metadata": {},
   "source": [
    "Hyper-parameter Tuning ( Taking different values of Gamma(G) for RBF kernel) - trying to improve the accuracy\n",
    "----------------------------------------------------------"
   ]
  },
  {
   "cell_type": "code",
   "execution_count": 9,
   "metadata": {},
   "outputs": [
    {
     "name": "stdout",
     "output_type": "stream",
     "text": [
      "accuracy\n",
      "0.746056782334\n"
     ]
    }
   ],
   "source": [
    "svc=SVC(kernel='rbf', gamma=1) \n",
    "svc.fit(x_train, y_train) \n",
    "y_pred = svc.predict(x_test) \n",
    "print('accuracy') \n",
    "print(metrics.accuracy_score(y_test,y_pred))"
   ]
  },
  {
   "cell_type": "code",
   "execution_count": 10,
   "metadata": {},
   "outputs": [
    {
     "name": "stdout",
     "output_type": "stream",
     "text": [
      "accuracy\n",
      "accuracy when c= 1 ---- 0.746056782334\n",
      "accuracy\n",
      "accuracy when c= 2 ---- 0.738170347003\n",
      "accuracy\n",
      "accuracy when c= 3 ---- 0.728706624606\n",
      "accuracy\n",
      "accuracy when c= 4 ---- 0.720820189274\n",
      "accuracy\n",
      "accuracy when c= 5 ---- 0.714511041009\n",
      "accuracy\n",
      "accuracy when c= 6 ---- 0.711356466877\n",
      "accuracy\n",
      "accuracy when c= 7 ---- 0.706624605678\n",
      "accuracy\n",
      "accuracy when c= 8 ---- 0.709779179811\n",
      "accuracy\n",
      "accuracy when c= 9 ---- 0.712933753943\n",
      "accuracy\n",
      "accuracy when c= 10 ---- 0.709779179811\n",
      "accuracy\n",
      "accuracy when c= 11 ---- 0.709779179811\n",
      "accuracy\n",
      "accuracy when c= 12 ---- 0.703470031546\n",
      "accuracy\n",
      "accuracy when c= 13 ---- 0.705047318612\n",
      "accuracy\n",
      "accuracy when c= 14 ---- 0.703470031546\n",
      "accuracy\n",
      "accuracy when c= 15 ---- 0.705047318612\n",
      "accuracy\n",
      "accuracy when c= 16 ---- 0.697160883281\n",
      "accuracy\n",
      "accuracy when c= 17 ---- 0.694006309148\n",
      "accuracy\n",
      "accuracy when c= 18 ---- 0.690851735016\n",
      "accuracy\n",
      "accuracy when c= 19 ---- 0.686119873817\n",
      "accuracy is high at  1 ==== 0.746056782334\n"
     ]
    }
   ],
   "source": [
    "p = []\n",
    "for k in range(1, 20):\n",
    "    svc=SVC(kernel='rbf', gamma=k) \n",
    "    svc.fit(x_train, y_train) \n",
    "    y_pred = svc.predict(x_test) \n",
    "    print('accuracy') \n",
    "    acc = metrics.accuracy_score(y_test,y_pred)\n",
    "    p.append(acc)\n",
    "    print(\"accuracy when c=\",k,\"----\",acc)\n",
    "\n",
    "max_value = max(p)\n",
    "index_value = p.index(max(p)) + 1\n",
    "print(\"accuracy is high at \",index_value,\"====\",max_value)"
   ]
  },
  {
   "cell_type": "markdown",
   "metadata": {},
   "source": [
    "Gamma values is the similarity measure between points\n",
    "\n",
    "smaller value will have large variance, thus considering far points as similar.\n",
    "\n",
    "larger value will have small variance, thus considering closer points as similar.\n",
    "\n",
    "From the above accuracy we can identify that most of the points are farther and high variance, thus smaller values are better suited for Gamma parameter.\n",
    "\n",
    "Smaller the value of gamma the accuracy increases, and vice-versa for larger gamma values."
   ]
  },
  {
   "cell_type": "markdown",
   "metadata": {},
   "source": [
    "Hyper-parameter Tuning ( Taking different degree values of degree(D) for Polynomial kernel) - trying to improve the accuracy\n",
    "--------------------------------------------------------------------"
   ]
  },
  {
   "cell_type": "code",
   "execution_count": 23,
   "metadata": {},
   "outputs": [
    {
     "name": "stdout",
     "output_type": "stream",
     "text": [
      "accuracy\n",
      "0.971608832808\n"
     ]
    }
   ],
   "source": [
    "svc=SVC(kernel='poly', degree=1) \n",
    "svc.fit(x_train, y_train) \n",
    "y_pred = svc.predict(x_test) \n",
    "print('accuracy') \n",
    "print(metrics.accuracy_score(y_test,y_pred))"
   ]
  },
  {
   "cell_type": "code",
   "execution_count": 24,
   "metadata": {},
   "outputs": [
    {
     "name": "stdout",
     "output_type": "stream",
     "text": [
      "accuracy\n",
      "accuracy when c= 1 ---- 0.971608832808\n",
      "accuracy\n",
      "accuracy when c= 2 ---- 0.908517350158\n",
      "accuracy\n",
      "accuracy when c= 3 ---- 0.958990536278\n",
      "accuracy\n",
      "accuracy when c= 4 ---- 0.876971608833\n",
      "accuracy\n",
      "accuracy when c= 5 ---- 0.875394321767\n",
      "accuracy\n",
      "accuracy when c= 6 ---- 0.809148264984\n",
      "accuracy\n",
      "accuracy when c= 7 ---- 0.804416403785\n",
      "accuracy\n",
      "accuracy when c= 8 ---- 0.758675078864\n",
      "accuracy\n",
      "accuracy when c= 9 ---- 0.753943217666\n",
      "accuracy is high at  1 ==== 0.971608832808\n"
     ]
    }
   ],
   "source": [
    "p = []\n",
    "for k in range(1, 10):\n",
    "    svc=SVC(kernel='poly', degree=k) \n",
    "    svc.fit(x_train, y_train) \n",
    "    y_pred = svc.predict(x_test) \n",
    "    print('accuracy') \n",
    "    acc = metrics.accuracy_score(y_test,y_pred)\n",
    "    p.append(acc)\n",
    "    print(\"accuracy when c=\",k,\"----\",acc)\n",
    "\n",
    "max_value = max(p)\n",
    "index_value = p.index(max(p)) + 1\n",
    "print(\"accuracy is high at \",index_value,\"====\",max_value)"
   ]
  },
  {
   "cell_type": "markdown",
   "metadata": {},
   "source": [
    "Increasing the value of degree is just increasing the complexity of the model, probably will cause overfitting, thus decreasing the accuracy"
   ]
  },
  {
   "cell_type": "markdown",
   "metadata": {
    "collapsed": true
   },
   "source": [
    "After Scaling\n",
    "--------------"
   ]
  },
  {
   "cell_type": "code",
   "execution_count": 4,
   "metadata": {
    "collapsed": true
   },
   "outputs": [],
   "source": [
    "from sklearn.preprocessing import StandardScaler\n",
    "scaler = StandardScaler()\n",
    "scaler.fit(x)\n",
    "x = scaler.transform(x)"
   ]
  },
  {
   "cell_type": "code",
   "execution_count": 5,
   "metadata": {
    "collapsed": true
   },
   "outputs": [],
   "source": [
    "from sklearn.model_selection import train_test_split\n",
    "x_train, x_test, y_train, y_test =train_test_split(x, y, test_size=0.2, random_state=1)"
   ]
  },
  {
   "cell_type": "markdown",
   "metadata": {},
   "source": [
    "SVM Linear Kernel with Hyper-parameter tuning and scaling based on highest accuracy from above example\n",
    "-------------------------------------------------------"
   ]
  },
  {
   "cell_type": "code",
   "execution_count": 7,
   "metadata": {},
   "outputs": [
    {
     "name": "stdout",
     "output_type": "stream",
     "text": [
      "accuracy\n",
      "0.976340694006\n"
     ]
    }
   ],
   "source": [
    "from sklearn.svm import SVC\n",
    "from sklearn import metrics\n",
    "svc=SVC(kernel='linear', C=4) \n",
    "svc.fit(x_train, y_train) \n",
    "y_pred = svc.predict(x_test) \n",
    "print('accuracy') \n",
    "print(metrics.accuracy_score(y_test,y_pred))"
   ]
  },
  {
   "cell_type": "markdown",
   "metadata": {},
   "source": [
    "RBF Kernel with Hyper-parameter tuning and scaling based on highest accuracy from above example\n",
    "--------------------------------------------------------"
   ]
  },
  {
   "cell_type": "code",
   "execution_count": 8,
   "metadata": {},
   "outputs": [
    {
     "name": "stdout",
     "output_type": "stream",
     "text": [
      "accuracy\n",
      "0.968454258675\n"
     ]
    }
   ],
   "source": [
    "svc=SVC(kernel='rbf', gamma=1) \n",
    "svc.fit(x_train, y_train) \n",
    "y_pred = svc.predict(x_test) \n",
    "print('accuracy') \n",
    "print(metrics.accuracy_score(y_test,y_pred))"
   ]
  },
  {
   "cell_type": "markdown",
   "metadata": {},
   "source": [
    "Polynomial Kernel with Hyper-parameter tuning and scaling based on highest accuracy from above example\n",
    "------------------------------------------------------------"
   ]
  },
  {
   "cell_type": "code",
   "execution_count": 16,
   "metadata": {},
   "outputs": [
    {
     "name": "stdout",
     "output_type": "stream",
     "text": [
      "accuracy\n",
      "0.958990536278\n"
     ]
    }
   ],
   "source": [
    "svc=SVC(kernel='poly', degree=3) \n",
    "svc.fit(x_train, y_train) \n",
    "y_pred = svc.predict(x_test) \n",
    "print('accuracy') \n",
    "print(metrics.accuracy_score(y_test,y_pred))"
   ]
  }
 ],
 "metadata": {
  "kernelspec": {
   "display_name": "Python 3",
   "language": "python",
   "name": "python3"
  },
  "language_info": {
   "codemirror_mode": {
    "name": "ipython",
    "version": 3
   },
   "file_extension": ".py",
   "mimetype": "text/x-python",
   "name": "python",
   "nbconvert_exporter": "python",
   "pygments_lexer": "ipython3",
   "version": "3.5.3"
  }
 },
 "nbformat": 4,
 "nbformat_minor": 2
}
